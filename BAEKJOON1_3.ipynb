{
  "nbformat": 4,
  "nbformat_minor": 0,
  "metadata": {
    "colab": {
      "name": "BAEKJOON1-3.ipynb",
      "provenance": [],
      "collapsed_sections": [],
      "authorship_tag": "ABX9TyNzLfRTs2cTxD02/i9C++Ao",
      "include_colab_link": true
    },
    "kernelspec": {
      "name": "python3",
      "display_name": "Python 3"
    },
    "language_info": {
      "name": "python"
    }
  },
  "cells": [
    {
      "cell_type": "markdown",
      "metadata": {
        "id": "view-in-github",
        "colab_type": "text"
      },
      "source": [
        "<a href=\"https://colab.research.google.com/github/dbtwelve/BAEKJOON/blob/main/BAEKJOON1_3.ipynb\" target=\"_parent\"><img src=\"https://colab.research.google.com/assets/colab-badge.svg\" alt=\"Open In Colab\"/></a>"
      ]
    },
    {
      "cell_type": "code",
      "metadata": {
        "colab": {
          "base_uri": "https://localhost:8080/"
        },
        "id": "FbN2Ht8v4SL0",
        "outputId": "64ba5f6a-e625-4ab7-dbde-d0978412b954"
      },
      "source": [
        "pages = [10,3,8,4,12,5,9,2,4,11,7]\n",
        "days = 5\n",
        "avr = sum(pages)//len(pages)\n",
        "day_page = sum(pages)//days\n",
        "\n",
        "answer = []\n",
        "temp = [pages[0]]\n",
        "for i in range(1, len(pages)):\n",
        "    if sum(temp)+pages[i] < day_page:\n",
        "        temp.append(pages[i])\n",
        "    if sum(temp) > avr*2:\n",
        "        answer.append((temp,sum(temp)))\n",
        "        temp = []\n",
        "        \n",
        "\n",
        "print(avr,day_page,answer)"
      ],
      "execution_count": null,
      "outputs": [
        {
          "output_type": "stream",
          "text": [
            "6 15 [([10, 3], 13), ([8, 4, 2], 14)]\n"
          ],
          "name": "stdout"
        }
      ]
    },
    {
      "cell_type": "code",
      "metadata": {
        "colab": {
          "base_uri": "https://localhost:8080/"
        },
        "id": "BZOb1v2OiXTO",
        "outputId": "afeb4c6a-be47-49e8-c1fe-214efaa1814e"
      },
      "source": [
        "print(r'|\\_/|')\n",
        "print(r'|q p|   /}')\n",
        "print(r'( 0 )\"\"\"\\ ')\n",
        "print(r'|\"^\"`    |')\n",
        "print(r'||_/=\\\\__|')"
      ],
      "execution_count": 7,
      "outputs": [
        {
          "output_type": "stream",
          "text": [
            "|\\_/|\n",
            "|q p|   /}\n",
            "( 0 )\"\"\"\\ \n",
            "|\"^\"`    |\n",
            "||_/=\\\\__|\n"
          ],
          "name": "stdout"
        }
      ]
    },
    {
      "cell_type": "code",
      "metadata": {
        "colab": {
          "base_uri": "https://localhost:8080/"
        },
        "id": "AFUht0YZldzj",
        "outputId": "f31088f1-dc8e-43d8-d2cf-2d47cce049c4"
      },
      "source": [
        "A, B, C = input().split()\n",
        "A = int(A)\n",
        "B = int(B)\n",
        "C = int(C)\n",
        "print((A+B)%C)\n",
        "print(((A%C)+(B%C))%C)\n",
        "print((A*B)%C)\n",
        "print(((A%C)*(B%C))%C)\n"
      ],
      "execution_count": 8,
      "outputs": [
        {
          "output_type": "stream",
          "text": [
            "5 8 4\n",
            "1\n",
            "1\n",
            "0\n",
            "0\n"
          ],
          "name": "stdout"
        }
      ]
    },
    {
      "cell_type": "code",
      "metadata": {
        "colab": {
          "base_uri": "https://localhost:8080/"
        },
        "id": "jkxFGdkZl-M4",
        "outputId": "a9426452-5e93-46c2-ee98-3175444f755e"
      },
      "source": [
        "A =int(input())\n",
        "B = list(map(int,input()))\n",
        "m = 0\n",
        "answer = 0\n",
        "count = 1\n",
        "for i in B[::-1]:\n",
        "    m = i * A\n",
        "    print(m)\n",
        "    answer = answer + m * count\n",
        "    m = 0\n",
        "    count = count * 10\n",
        "print(answer)\n"
      ],
      "execution_count": 11,
      "outputs": [
        {
          "output_type": "stream",
          "text": [
            "472\n",
            "385\n",
            "2360\n",
            "3776\n",
            "1416\n",
            "181720\n"
          ],
          "name": "stdout"
        }
      ]
    },
    {
      "cell_type": "code",
      "metadata": {
        "colab": {
          "base_uri": "https://localhost:8080/"
        },
        "id": "iX1np1izpNJT",
        "outputId": "d7650cde-c918-4cb3-f476-72a0d8fad757"
      },
      "source": [
        "#1330\n",
        "A,B = input().split()\n",
        "A = int(A)\n",
        "B = int(B)\n",
        "if A < B:\n",
        "    print('<')\n",
        "if A > B:\n",
        "    print('>')\n",
        "if A == B:\n",
        "    print('==')"
      ],
      "execution_count": 13,
      "outputs": [
        {
          "output_type": "stream",
          "text": [
            "5 5 \n",
            "==\n"
          ],
          "name": "stdout"
        }
      ]
    },
    {
      "cell_type": "code",
      "metadata": {
        "colab": {
          "base_uri": "https://localhost:8080/"
        },
        "id": "pgYrNhL1pyxm",
        "outputId": "4496b71d-05d2-48c1-ff7a-e76d37acadf9"
      },
      "source": [
        "#9498\n",
        "score = int(input())\n",
        "if score >= 90 : \n",
        "    print('A')\n",
        "elif score >= 80 : \n",
        "    print('B')\n",
        "elif score >= 70 : \n",
        "    print('C')\n",
        "elif score >= 60 : \n",
        "    print('D')\n",
        "else: \n",
        "    print('F')"
      ],
      "execution_count": 19,
      "outputs": [
        {
          "output_type": "stream",
          "text": [
            "89\n",
            "B\n"
          ],
          "name": "stdout"
        }
      ]
    },
    {
      "cell_type": "code",
      "metadata": {
        "colab": {
          "base_uri": "https://localhost:8080/"
        },
        "id": "OqZDXUFKqyOM",
        "outputId": "a730a1ff-1595-4c6b-e886-b559b1fe36c1"
      },
      "source": [
        "#2753\n",
        "year = int(input())\n",
        "if (year % 4) == 0 and (year % 100) != 0 or (year % 400) == 0: print(1)\n",
        "else: print(0)"
      ],
      "execution_count": 23,
      "outputs": [
        {
          "output_type": "stream",
          "text": [
            "1999\n",
            "0\n"
          ],
          "name": "stdout"
        }
      ]
    },
    {
      "cell_type": "code",
      "metadata": {
        "colab": {
          "base_uri": "https://localhost:8080/"
        },
        "id": "1YcRIYMJr7pv",
        "outputId": "cb2e49d1-32a1-4265-a55c-0d3d7d939a98"
      },
      "source": [
        "#14681\n",
        "x = int(input())\n",
        "y = int(input())\n",
        "if x > 0 and y > 0:\n",
        "    print(1)\n",
        "if x > 0 and y < 0:\n",
        "    print(4)\n",
        "if x < 0 and y < 0:\n",
        "    print(3)\n",
        "if x < 0 and y > 0:\n",
        "    print(2)"
      ],
      "execution_count": 25,
      "outputs": [
        {
          "output_type": "stream",
          "text": [
            "9\n",
            "-13\n",
            "4\n"
          ],
          "name": "stdout"
        }
      ]
    },
    {
      "cell_type": "code",
      "metadata": {
        "colab": {
          "base_uri": "https://localhost:8080/"
        },
        "id": "EFGf_eKmssQx",
        "outputId": "243e03e4-5fc9-4318-f2c8-715e4283ffc4"
      },
      "source": [
        "#2884\n",
        "H,M = input().split()\n",
        "H = int(H)\n",
        "M = int(M)\n",
        "if M >= 45 :\n",
        "    M -= 45\n",
        "else:\n",
        "    if H == 0:\n",
        "        H = 23\n",
        "    else:\n",
        "        H -= 1\n",
        "    M = M + (60 - 45)\n",
        "print(H,M)"
      ],
      "execution_count": 31,
      "outputs": [
        {
          "output_type": "stream",
          "text": [
            "10 10\n",
            "9 25\n"
          ],
          "name": "stdout"
        }
      ]
    },
    {
      "cell_type": "code",
      "metadata": {
        "colab": {
          "base_uri": "https://localhost:8080/"
        },
        "id": "3eLzhEm8umjK",
        "outputId": "c2f12790-6393-4fe0-a6ba-dfea6c0a4868"
      },
      "source": [
        "#2739\n",
        "A = int(input())\n",
        "if A >= 1 and A <=9:\n",
        "    for i in range(1,10):\n",
        "        print(A,\"*\",i,\"=\",A*i)"
      ],
      "execution_count": 34,
      "outputs": [
        {
          "output_type": "stream",
          "text": [
            "10\n"
          ],
          "name": "stdout"
        }
      ]
    },
    {
      "cell_type": "code",
      "metadata": {
        "colab": {
          "base_uri": "https://localhost:8080/"
        },
        "id": "-v3imga9vril",
        "outputId": "19201cf7-be06-4120-ab2f-b60c6fde1960"
      },
      "source": [
        "#10950\n",
        "for _ in range(int(input())):\n",
        "    A,B = input().split()\n",
        "    A = int(A)\n",
        "    B = int(B)\n",
        "    print(A+B)"
      ],
      "execution_count": 36,
      "outputs": [
        {
          "output_type": "stream",
          "text": [
            "5\n",
            "1 1\n",
            "2\n",
            "2 3\n",
            "5\n",
            "3 4\n",
            "7\n",
            "9 8\n",
            "17\n",
            "5 2\n",
            "7\n"
          ],
          "name": "stdout"
        }
      ]
    },
    {
      "cell_type": "code",
      "metadata": {
        "colab": {
          "base_uri": "https://localhost:8080/"
        },
        "id": "oQeddKqiwUIm",
        "outputId": "fdf16dc5-eb36-4afc-be7c-9cba43920926"
      },
      "source": [
        "#8393\n",
        "answer = 0\n",
        "for i in range(1,int(input())+1):\n",
        "    answer += i\n",
        "print(answer)"
      ],
      "execution_count": 43,
      "outputs": [
        {
          "output_type": "stream",
          "text": [
            "3\n",
            "6\n"
          ],
          "name": "stdout"
        }
      ]
    },
    {
      "cell_type": "code",
      "metadata": {
        "colab": {
          "base_uri": "https://localhost:8080/",
          "height": 190
        },
        "id": "ahERyRcdxM5q",
        "outputId": "3917f778-6b9c-4790-fdbb-b615d9f8d92e"
      },
      "source": [
        "import sys\n",
        "input = int(sys.stdin.readline())"
      ],
      "execution_count": 51,
      "outputs": [
        {
          "output_type": "error",
          "ename": "ValueError",
          "evalue": "ignored",
          "traceback": [
            "\u001b[0;31m---------------------------------------------------------------------------\u001b[0m",
            "\u001b[0;31mValueError\u001b[0m                                Traceback (most recent call last)",
            "\u001b[0;32m<ipython-input-51-ab55c517c330>\u001b[0m in \u001b[0;36m<module>\u001b[0;34m()\u001b[0m\n\u001b[1;32m      1\u001b[0m \u001b[0;32mimport\u001b[0m \u001b[0msys\u001b[0m\u001b[0;34m\u001b[0m\u001b[0;34m\u001b[0m\u001b[0m\n\u001b[0;32m----> 2\u001b[0;31m \u001b[0minput\u001b[0m \u001b[0;34m=\u001b[0m \u001b[0mint\u001b[0m\u001b[0;34m(\u001b[0m\u001b[0msys\u001b[0m\u001b[0;34m.\u001b[0m\u001b[0mstdin\u001b[0m\u001b[0;34m.\u001b[0m\u001b[0mreadline\u001b[0m\u001b[0;34m(\u001b[0m\u001b[0;34m)\u001b[0m\u001b[0;34m)\u001b[0m\u001b[0;34m\u001b[0m\u001b[0;34m\u001b[0m\u001b[0m\n\u001b[0m",
            "\u001b[0;31mValueError\u001b[0m: invalid literal for int() with base 10: ''"
          ]
        }
      ]
    },
    {
      "cell_type": "code",
      "metadata": {
        "colab": {
          "base_uri": "https://localhost:8080/",
          "height": 244
        },
        "id": "eJhNGJirxucD",
        "outputId": "67d49935-91e5-4ac6-da01-8ea63a6980de"
      },
      "source": [
        ""
      ],
      "execution_count": 59,
      "outputs": [
        {
          "output_type": "error",
          "ename": "TypeError",
          "evalue": "ignored",
          "traceback": [
            "\u001b[0;31m---------------------------------------------------------------------------\u001b[0m",
            "\u001b[0;31mTypeError\u001b[0m                                 Traceback (most recent call last)",
            "\u001b[0;32m<ipython-input-59-6987eb145fdf>\u001b[0m in \u001b[0;36m<module>\u001b[0;34m()\u001b[0m\n\u001b[1;32m      1\u001b[0m \u001b[0;32mfrom\u001b[0m \u001b[0mitertools\u001b[0m \u001b[0;32mimport\u001b[0m \u001b[0mcombinations\u001b[0m\u001b[0;34m\u001b[0m\u001b[0;34m\u001b[0m\u001b[0m\n\u001b[0;32m----> 2\u001b[0;31m \u001b[0mA\u001b[0m \u001b[0;34m=\u001b[0m \u001b[0mint\u001b[0m\u001b[0;34m(\u001b[0m\u001b[0minput\u001b[0m\u001b[0;34m(\u001b[0m\u001b[0;34m)\u001b[0m\u001b[0;34m)\u001b[0m\u001b[0;34m\u001b[0m\u001b[0;34m\u001b[0m\u001b[0m\n\u001b[0m\u001b[1;32m      3\u001b[0m \u001b[0;34m\u001b[0m\u001b[0m\n\u001b[1;32m      4\u001b[0m \u001b[0;32mdef\u001b[0m \u001b[0mBracketCombinations\u001b[0m\u001b[0;34m(\u001b[0m\u001b[0mnum\u001b[0m\u001b[0;34m)\u001b[0m\u001b[0;34m:\u001b[0m\u001b[0;34m\u001b[0m\u001b[0;34m\u001b[0m\u001b[0m\n\u001b[1;32m      5\u001b[0m   \u001b[0mB\u001b[0m \u001b[0;34m=\u001b[0m \u001b[0;34m[\u001b[0m\u001b[0;34m'('\u001b[0m\u001b[0;34m,\u001b[0m\u001b[0;34m')'\u001b[0m\u001b[0;34m]\u001b[0m \u001b[0;34m*\u001b[0m \u001b[0mnum\u001b[0m\u001b[0;34m\u001b[0m\u001b[0;34m\u001b[0m\u001b[0m\n",
            "\u001b[0;31mTypeError\u001b[0m: 'str' object is not callable"
          ]
        }
      ]
    }
  ]
}
{
  "nbformat": 4,
  "nbformat_minor": 0,
  "metadata": {
    "colab": {
      "name": "BAEKJOON1-4단계.ipynb",
      "provenance": [],
      "collapsed_sections": [],
      "authorship_tag": "ABX9TyPDJF2fprsADZAMOw6xUZdU",
      "include_colab_link": true
    },
    "kernelspec": {
      "name": "python3",
      "display_name": "Python 3"
    },
    "language_info": {
      "name": "python"
    }
  },
  "cells": [
    {
      "cell_type": "markdown",
      "metadata": {
        "id": "view-in-github",
        "colab_type": "text"
      },
      "source": [
        "<a href=\"https://colab.research.google.com/github/dbtwelve/BAEKJOON/blob/main/BAEKJOON1_4%EB%8B%A8%EA%B3%84.ipynb\" target=\"_parent\"><img src=\"https://colab.research.google.com/assets/colab-badge.svg\" alt=\"Open In Colab\"/></a>"
      ]
    },
    {
      "cell_type": "code",
      "metadata": {
        "colab": {
          "base_uri": "https://localhost:8080/"
        },
        "id": "FbN2Ht8v4SL0",
        "outputId": "e3f9bc94-e377-43df-f569-8ed1ad9dd605"
      },
      "source": [
        "pages = [10,3,8,4,12,5,9,2,4,11,7]\n",
        "days = 5\n",
        "avr = sum(pages)//len(pages)\n",
        "day_page = sum(pages)//days\n",
        "\n",
        "answer = []\n",
        "temp = [pages[0]]\n",
        "for i in range(1, len(pages)):\n",
        "    if sum(temp)+pages[i] < day_page:\n",
        "        temp.append(pages[i])\n",
        "    if sum(temp) > avr*2:\n",
        "        answer.append((temp,sum(temp)))\n",
        "        temp = []\n",
        "        \n",
        "\n",
        "print(avr,day_page,answer)"
      ],
      "execution_count": 18,
      "outputs": [
        {
          "output_type": "stream",
          "text": [
            "6 15 [([10, 3], 13), ([8, 4, 2], 14)]\n"
          ],
          "name": "stdout"
        }
      ]
    },
    {
      "cell_type": "code",
      "metadata": {
        "colab": {
          "base_uri": "https://localhost:8080/"
        },
        "id": "BZOb1v2OiXTO",
        "outputId": "c0e81ed5-3aaf-4a6e-a0ed-3af437720df5"
      },
      "source": [
        "print(r'|\\_/|')\n",
        "print(r'|q p|   /}')\n",
        "print(r'( 0 )\"\"\"\\ ')\n",
        "print(r'|\"^\"`    |')\n",
        "print(r'||_/=\\\\__|')"
      ],
      "execution_count": 19,
      "outputs": [
        {
          "output_type": "stream",
          "text": [
            "|\\_/|\n",
            "|q p|   /}\n",
            "( 0 )\"\"\"\\ \n",
            "|\"^\"`    |\n",
            "||_/=\\\\__|\n"
          ],
          "name": "stdout"
        }
      ]
    },
    {
      "cell_type": "code",
      "metadata": {
        "colab": {
          "base_uri": "https://localhost:8080/"
        },
        "id": "AFUht0YZldzj",
        "outputId": "adaa649c-7683-4351-f2f9-31dc32cd697f"
      },
      "source": [
        "A, B, C = input().split()\n",
        "A = int(A)\n",
        "B = int(B)\n",
        "C = int(C)\n",
        "print((A+B)%C)\n",
        "print(((A%C)+(B%C))%C)\n",
        "print((A*B)%C)\n",
        "print(((A%C)*(B%C))%C)\n"
      ],
      "execution_count": 2,
      "outputs": [
        {
          "output_type": "stream",
          "text": [
            "1 2 3\n",
            "0\n",
            "0\n",
            "2\n",
            "2\n"
          ],
          "name": "stdout"
        }
      ]
    },
    {
      "cell_type": "code",
      "metadata": {
        "colab": {
          "base_uri": "https://localhost:8080/"
        },
        "id": "jkxFGdkZl-M4",
        "outputId": "a9426452-5e93-46c2-ee98-3175444f755e"
      },
      "source": [
        "A =int(input())\n",
        "B = list(map(int,input()))\n",
        "m = 0\n",
        "answer = 0\n",
        "count = 1\n",
        "for i in B[::-1]:\n",
        "    m = i * A\n",
        "    print(m)\n",
        "    answer = answer + m * count\n",
        "    m = 0\n",
        "    count = count * 10\n",
        "print(answer)\n"
      ],
      "execution_count": null,
      "outputs": [
        {
          "output_type": "stream",
          "text": [
            "472\n",
            "385\n",
            "2360\n",
            "3776\n",
            "1416\n",
            "181720\n"
          ],
          "name": "stdout"
        }
      ]
    },
    {
      "cell_type": "code",
      "metadata": {
        "colab": {
          "base_uri": "https://localhost:8080/"
        },
        "id": "iX1np1izpNJT",
        "outputId": "d7650cde-c918-4cb3-f476-72a0d8fad757"
      },
      "source": [
        "#1330\n",
        "A,B = input().split()\n",
        "A = int(A)\n",
        "B = int(B)\n",
        "if A < B:\n",
        "    print('<')\n",
        "if A > B:\n",
        "    print('>')\n",
        "if A == B:\n",
        "    print('==')"
      ],
      "execution_count": null,
      "outputs": [
        {
          "output_type": "stream",
          "text": [
            "5 5 \n",
            "==\n"
          ],
          "name": "stdout"
        }
      ]
    },
    {
      "cell_type": "code",
      "metadata": {
        "colab": {
          "base_uri": "https://localhost:8080/"
        },
        "id": "pgYrNhL1pyxm",
        "outputId": "4496b71d-05d2-48c1-ff7a-e76d37acadf9"
      },
      "source": [
        "#9498\n",
        "score = int(input())\n",
        "if score >= 90 : \n",
        "    print('A')\n",
        "elif score >= 80 : \n",
        "    print('B')\n",
        "elif score >= 70 : \n",
        "    print('C')\n",
        "elif score >= 60 : \n",
        "    print('D')\n",
        "else: \n",
        "    print('F')"
      ],
      "execution_count": null,
      "outputs": [
        {
          "output_type": "stream",
          "text": [
            "89\n",
            "B\n"
          ],
          "name": "stdout"
        }
      ]
    },
    {
      "cell_type": "code",
      "metadata": {
        "colab": {
          "base_uri": "https://localhost:8080/"
        },
        "id": "OqZDXUFKqyOM",
        "outputId": "a730a1ff-1595-4c6b-e886-b559b1fe36c1"
      },
      "source": [
        "#2753\n",
        "year = int(input())\n",
        "if (year % 4) == 0 and (year % 100) != 0 or (year % 400) == 0: print(1)\n",
        "else: print(0)"
      ],
      "execution_count": null,
      "outputs": [
        {
          "output_type": "stream",
          "text": [
            "1999\n",
            "0\n"
          ],
          "name": "stdout"
        }
      ]
    },
    {
      "cell_type": "code",
      "metadata": {
        "colab": {
          "base_uri": "https://localhost:8080/"
        },
        "id": "1YcRIYMJr7pv",
        "outputId": "cb2e49d1-32a1-4265-a55c-0d3d7d939a98"
      },
      "source": [
        "#14681\n",
        "x = int(input())\n",
        "y = int(input())\n",
        "if x > 0 and y > 0:\n",
        "    print(1)\n",
        "if x > 0 and y < 0:\n",
        "    print(4)\n",
        "if x < 0 and y < 0:\n",
        "    print(3)\n",
        "if x < 0 and y > 0:\n",
        "    print(2)"
      ],
      "execution_count": null,
      "outputs": [
        {
          "output_type": "stream",
          "text": [
            "9\n",
            "-13\n",
            "4\n"
          ],
          "name": "stdout"
        }
      ]
    },
    {
      "cell_type": "code",
      "metadata": {
        "colab": {
          "base_uri": "https://localhost:8080/"
        },
        "id": "EFGf_eKmssQx",
        "outputId": "243e03e4-5fc9-4318-f2c8-715e4283ffc4"
      },
      "source": [
        "#2884\n",
        "H,M = input().split()\n",
        "H = int(H)\n",
        "M = int(M)\n",
        "if M >= 45 :\n",
        "    M -= 45\n",
        "else:\n",
        "    if H == 0:\n",
        "        H = 23\n",
        "    else:\n",
        "        H -= 1\n",
        "    M = M + (60 - 45)\n",
        "print(H,M)"
      ],
      "execution_count": null,
      "outputs": [
        {
          "output_type": "stream",
          "text": [
            "10 10\n",
            "9 25\n"
          ],
          "name": "stdout"
        }
      ]
    },
    {
      "cell_type": "code",
      "metadata": {
        "colab": {
          "base_uri": "https://localhost:8080/"
        },
        "id": "3eLzhEm8umjK",
        "outputId": "c2f12790-6393-4fe0-a6ba-dfea6c0a4868"
      },
      "source": [
        "#2739\n",
        "A = int(input())\n",
        "if A >= 1 and A <=9:\n",
        "    for i in range(1,10):\n",
        "        print(A,\"*\",i,\"=\",A*i)"
      ],
      "execution_count": null,
      "outputs": [
        {
          "output_type": "stream",
          "text": [
            "10\n"
          ],
          "name": "stdout"
        }
      ]
    },
    {
      "cell_type": "code",
      "metadata": {
        "colab": {
          "base_uri": "https://localhost:8080/"
        },
        "id": "-v3imga9vril",
        "outputId": "19201cf7-be06-4120-ab2f-b60c6fde1960"
      },
      "source": [
        "#10950\n",
        "for _ in range(int(input())):\n",
        "    A,B = input().split()\n",
        "    A = int(A)\n",
        "    B = int(B)\n",
        "    print(A+B)"
      ],
      "execution_count": null,
      "outputs": [
        {
          "output_type": "stream",
          "text": [
            "5\n",
            "1 1\n",
            "2\n",
            "2 3\n",
            "5\n",
            "3 4\n",
            "7\n",
            "9 8\n",
            "17\n",
            "5 2\n",
            "7\n"
          ],
          "name": "stdout"
        }
      ]
    },
    {
      "cell_type": "code",
      "metadata": {
        "colab": {
          "base_uri": "https://localhost:8080/"
        },
        "id": "oQeddKqiwUIm",
        "outputId": "fdf16dc5-eb36-4afc-be7c-9cba43920926"
      },
      "source": [
        "#8393\n",
        "answer = 0\n",
        "for i in range(1,int(input())+1):\n",
        "    answer += i\n",
        "print(answer)"
      ],
      "execution_count": null,
      "outputs": [
        {
          "output_type": "stream",
          "text": [
            "3\n",
            "6\n"
          ],
          "name": "stdout"
        }
      ]
    },
    {
      "cell_type": "code",
      "metadata": {
        "colab": {
          "base_uri": "https://localhost:8080/",
          "height": 244
        },
        "id": "ahERyRcdxM5q",
        "outputId": "a8a60f1d-5975-4ad9-8c4a-3c2552f78ea4"
      },
      "source": [
        "#15552\n",
        "\n",
        "import sys\n",
        "for _ in range(int(sys.stdin.readline())):  #colab jupiter notebook에서 지원안함\n",
        "    A, B = map(int, sys.stdin.readline().split(' '))\n",
        "    print(A+B)"
      ],
      "execution_count": 4,
      "outputs": [
        {
          "output_type": "error",
          "ename": "ValueError",
          "evalue": "ignored",
          "traceback": [
            "\u001b[0;31m---------------------------------------------------------------------------\u001b[0m",
            "\u001b[0;31mValueError\u001b[0m                                Traceback (most recent call last)",
            "\u001b[0;32m<ipython-input-4-53fcb9857dc5>\u001b[0m in \u001b[0;36m<module>\u001b[0;34m()\u001b[0m\n\u001b[1;32m      2\u001b[0m \u001b[0;34m\u001b[0m\u001b[0m\n\u001b[1;32m      3\u001b[0m \u001b[0;32mimport\u001b[0m \u001b[0msys\u001b[0m\u001b[0;34m\u001b[0m\u001b[0;34m\u001b[0m\u001b[0m\n\u001b[0;32m----> 4\u001b[0;31m \u001b[0;32mfor\u001b[0m \u001b[0m_\u001b[0m \u001b[0;32min\u001b[0m \u001b[0mrange\u001b[0m\u001b[0;34m(\u001b[0m\u001b[0mint\u001b[0m\u001b[0;34m(\u001b[0m\u001b[0msys\u001b[0m\u001b[0;34m.\u001b[0m\u001b[0mstdin\u001b[0m\u001b[0;34m.\u001b[0m\u001b[0mreadline\u001b[0m\u001b[0;34m(\u001b[0m\u001b[0;34m)\u001b[0m\u001b[0;34m)\u001b[0m\u001b[0;34m)\u001b[0m\u001b[0;34m:\u001b[0m  \u001b[0;31m#colab jupiter notebook에서 지원안함\u001b[0m\u001b[0;34m\u001b[0m\u001b[0;34m\u001b[0m\u001b[0m\n\u001b[0m\u001b[1;32m      5\u001b[0m     \u001b[0mA\u001b[0m\u001b[0;34m,\u001b[0m \u001b[0mB\u001b[0m \u001b[0;34m=\u001b[0m \u001b[0mmap\u001b[0m\u001b[0;34m(\u001b[0m\u001b[0mint\u001b[0m\u001b[0;34m,\u001b[0m \u001b[0msys\u001b[0m\u001b[0;34m.\u001b[0m\u001b[0mstdin\u001b[0m\u001b[0;34m.\u001b[0m\u001b[0mreadline\u001b[0m\u001b[0;34m(\u001b[0m\u001b[0;34m)\u001b[0m\u001b[0;34m.\u001b[0m\u001b[0msplit\u001b[0m\u001b[0;34m(\u001b[0m\u001b[0;34m' '\u001b[0m\u001b[0;34m)\u001b[0m\u001b[0;34m)\u001b[0m\u001b[0;34m\u001b[0m\u001b[0;34m\u001b[0m\u001b[0m\n\u001b[1;32m      6\u001b[0m     \u001b[0mprint\u001b[0m\u001b[0;34m(\u001b[0m\u001b[0mA\u001b[0m\u001b[0;34m+\u001b[0m\u001b[0mB\u001b[0m\u001b[0;34m)\u001b[0m\u001b[0;34m\u001b[0m\u001b[0;34m\u001b[0m\u001b[0m\n",
            "\u001b[0;31mValueError\u001b[0m: invalid literal for int() with base 10: ''"
          ]
        }
      ]
    },
    {
      "cell_type": "code",
      "metadata": {
        "colab": {
          "base_uri": "https://localhost:8080/"
        },
        "id": "eJhNGJirxucD",
        "outputId": "de6cd6b4-1e19-4533-826d-fe067b5a261a"
      },
      "source": [
        "#2741\n",
        "for i in range(1,int(input())+1):\n",
        "    print(i)"
      ],
      "execution_count": 5,
      "outputs": [
        {
          "output_type": "stream",
          "text": [
            "5\n",
            "1\n",
            "2\n",
            "3\n",
            "4\n",
            "5\n"
          ],
          "name": "stdout"
        }
      ]
    },
    {
      "cell_type": "code",
      "metadata": {
        "colab": {
          "base_uri": "https://localhost:8080/"
        },
        "id": "IqKoKjpaxbUd",
        "outputId": "9c5c9003-5f58-43d1-fda0-fc4b2e3d1a18"
      },
      "source": [
        "#2742\n",
        "for i in range(int(input()),0,-1):\n",
        "    print(i)"
      ],
      "execution_count": 9,
      "outputs": [
        {
          "output_type": "stream",
          "text": [
            "5\n",
            "5\n",
            "4\n",
            "3\n",
            "2\n",
            "1\n"
          ],
          "name": "stdout"
        }
      ]
    },
    {
      "cell_type": "code",
      "metadata": {
        "colab": {
          "base_uri": "https://localhost:8080/"
        },
        "id": "CxQOPkJGyFEl",
        "outputId": "2300412f-b513-4e6b-8516-9ad0f9d8eebd"
      },
      "source": [
        "#11021\n",
        "for i in range(1,int(input())+1):\n",
        "    A,B = map(int,input().split()) \n",
        "    print(\"Case #{0}: {1}\".format(i,A+B))"
      ],
      "execution_count": 15,
      "outputs": [
        {
          "output_type": "stream",
          "text": [
            "5\n",
            "1 1\n",
            "Case #1: 2\n",
            "2 3\n",
            "Case #2: 5\n",
            "3 4\n",
            "Case #3: 7\n",
            "9 8\n",
            "Case #4: 17\n",
            "5 2\n",
            "Case #5: 7\n"
          ],
          "name": "stdout"
        }
      ]
    },
    {
      "cell_type": "code",
      "metadata": {
        "colab": {
          "base_uri": "https://localhost:8080/"
        },
        "id": "cwdFXEoYzvjS",
        "outputId": "85136734-84b0-474b-d2ba-e10c9a261663"
      },
      "source": [
        "#11021\n",
        "for i in range(1,int(input())+1):\n",
        "    A,B = map(int,input().split()) \n",
        "    print(\"Case #{0}: {1} + {2} = {3}\".format(i,A,B,A+B))"
      ],
      "execution_count": 16,
      "outputs": [
        {
          "output_type": "stream",
          "text": [
            "5\n",
            "1 1\n",
            "Case #1: 1 + 1 = 2\n",
            "2 3\n",
            "Case #2: 2 + 3 = 5\n",
            "3 4\n",
            "Case #3: 3 + 4 = 7\n",
            "9 8\n",
            "Case #4: 9 + 8 = 17\n",
            "5 2\n",
            "Case #5: 5 + 2 = 7\n"
          ],
          "name": "stdout"
        }
      ]
    },
    {
      "cell_type": "code",
      "metadata": {
        "colab": {
          "base_uri": "https://localhost:8080/"
        },
        "id": "771Go98q0U-G",
        "outputId": "3d68603c-66bc-49cf-98d2-65ac296a5163"
      },
      "source": [
        "#2438\n",
        "for i in range(1,int(input())+1):\n",
        "    print('*'*i)"
      ],
      "execution_count": 17,
      "outputs": [
        {
          "output_type": "stream",
          "text": [
            "5\n",
            "*\n",
            "**\n",
            "***\n",
            "****\n",
            "*****\n"
          ],
          "name": "stdout"
        }
      ]
    },
    {
      "cell_type": "code",
      "metadata": {
        "colab": {
          "base_uri": "https://localhost:8080/"
        },
        "id": "tHRLZuWZ0rqJ",
        "outputId": "ee299238-386d-4c2d-eb9e-63b14c9915d6"
      },
      "source": [
        "#2439\n",
        "N = int(input())\n",
        "for i in range(1,N+1):\n",
        "    print(' '*(N-i)+'*'*i)"
      ],
      "execution_count": 18,
      "outputs": [
        {
          "output_type": "stream",
          "text": [
            "5\n",
            "    *\n",
            "   **\n",
            "  ***\n",
            " ****\n",
            "*****\n"
          ],
          "name": "stdout"
        }
      ]
    },
    {
      "cell_type": "code",
      "metadata": {
        "colab": {
          "base_uri": "https://localhost:8080/"
        },
        "id": "5pGwz_s91S3r",
        "outputId": "b938bd4a-4d89-4f39-b20b-87827592e9e9"
      },
      "source": [
        "#10871\n",
        "N, M = map(int,input().split()) \n",
        "answer = []\n",
        "for i in input().split():\n",
        "    if int(i) < M:\n",
        "        answer.append(i)\n",
        "print(*answer)"
      ],
      "execution_count": 23,
      "outputs": [
        {
          "output_type": "stream",
          "text": [
            "10 5\n",
            "1 10 4 9 2 3 8 5 7 6\n",
            "1 4 2 3\n"
          ],
          "name": "stdout"
        }
      ]
    },
    {
      "cell_type": "code",
      "metadata": {
        "colab": {
          "base_uri": "https://localhost:8080/"
        },
        "id": "_rTkO9_u2SX9",
        "outputId": "c8991d1e-7185-4f45-807b-06d483018623"
      },
      "source": [
        "#10871\n",
        "N, M = map(int,input().split()) \n",
        "answer = []\n",
        "for i in input().split():\n",
        "    if int(i) < M:\n",
        "        print(i, end = \" \")"
      ],
      "execution_count": 25,
      "outputs": [
        {
          "output_type": "stream",
          "text": [
            "10 5\n",
            "1 10 4 9 2 3 8 5 7 6\n",
            "1 4 2 3 "
          ],
          "name": "stdout"
        }
      ]
    },
    {
      "cell_type": "code",
      "metadata": {
        "colab": {
          "base_uri": "https://localhost:8080/"
        },
        "id": "mhQDOgx_3kZz",
        "outputId": "a2c680b4-c597-40f9-ead9-d1d194b9be22"
      },
      "source": [
        "#10952\n",
        "while True:\n",
        "    N,M = map(int,input().split()) \n",
        "    if N == 0 and M == 0:\n",
        "        break\n",
        "    print(N+M)"
      ],
      "execution_count": 28,
      "outputs": [
        {
          "output_type": "stream",
          "text": [
            "1 1\n",
            "2\n",
            "2 3\n",
            "5\n",
            "3 4\n",
            "7\n",
            "9 8\n",
            "17\n",
            "5 2\n",
            "7\n",
            "0 0\n"
          ],
          "name": "stdout"
        }
      ]
    },
    {
      "cell_type": "code",
      "metadata": {
        "colab": {
          "base_uri": "https://localhost:8080/"
        },
        "id": "-6k9-QtdDFM2",
        "outputId": "46f21800-fa15-4cca-da10-2493f0d61057"
      },
      "source": [
        "#10951\n",
        "while True:\n",
        "    try:\n",
        "        N,M = map(int,input().split()) \n",
        "        print(N+M)\n",
        "    except:\n",
        "        break"
      ],
      "execution_count": 31,
      "outputs": [
        {
          "output_type": "stream",
          "text": [
            "1 1\n",
            "2\n",
            "2 3\n",
            "5\n",
            "3 4\n",
            "7\n",
            "9 8\n",
            "17\n",
            "5 2\n",
            "7\n",
            "\n"
          ],
          "name": "stdout"
        }
      ]
    },
    {
      "cell_type": "code",
      "metadata": {
        "colab": {
          "base_uri": "https://localhost:8080/"
        },
        "id": "bD9AIc1XEM_K",
        "outputId": "9c717175-623f-476d-9e8d-43929f64a978"
      },
      "source": [
        "#1110\n",
        "temp = N = int(input())\n",
        "count = 0\n",
        "while True:\n",
        "    first = temp//10\n",
        "    second = temp%10\n",
        "    M = second*10 + ((first + second)%10)\n",
        "    count += 1\n",
        "    #print(M,count)\n",
        "    if N == M:\n",
        "        print(count)\n",
        "        break\n",
        "    temp = M"
      ],
      "execution_count": 42,
      "outputs": [
        {
          "output_type": "stream",
          "text": [
            "26\n",
            "68 1\n",
            "84 2\n",
            "42 3\n",
            "26 4\n",
            "4\n"
          ],
          "name": "stdout"
        }
      ]
    }
  ]
}